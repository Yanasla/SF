with open('info.txt') as f:
    for line in f:
        print(line, end = '')
        