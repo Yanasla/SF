{
 "cells": [
  {
   "cell_type": "markdown",
   "metadata": {},
   "source": [
    "# Общие приёмы работы со строками"
   ]
  },
  {
   "cell_type": "code",
   "execution_count": 2,
   "metadata": {},
   "outputs": [],
   "source": [
    "string = 'Семь бед — один reset'"
   ]
  },
  {
   "cell_type": "markdown",
   "metadata": {},
   "source": [
    "### Перебор элементов и работа с индексами "
   ]
  },
  {
   "cell_type": "code",
   "execution_count": 4,
   "metadata": {},
   "outputs": [
    {
     "data": {
      "text/plain": [
       "'семь'"
      ]
     },
     "execution_count": 4,
     "metadata": {},
     "output_type": "execute_result"
    }
   ],
   "source": [
    "# Вывести на экран слово \"семь\"\n",
    "string.split()[0].lower()"
   ]
  },
  {
   "cell_type": "code",
   "execution_count": 5,
   "metadata": {},
   "outputs": [
    {
     "data": {
      "text/plain": [
       "'один'"
      ]
     },
     "execution_count": 5,
     "metadata": {},
     "output_type": "execute_result"
    }
   ],
   "source": [
    "# Вывести на экран слово \"один\"\n",
    "string[-10:-6]"
   ]
  },
  {
   "cell_type": "code",
   "execution_count": 6,
   "metadata": {},
   "outputs": [
    {
     "data": {
      "text/plain": [
       "'reset'"
      ]
     },
     "execution_count": 6,
     "metadata": {},
     "output_type": "execute_result"
    }
   ],
   "source": [
    "# Вывести на экран слово \"reset\"\n",
    "string.split()[-1]"
   ]
  },
  {
   "cell_type": "code",
   "execution_count": 7,
   "metadata": {},
   "outputs": [
    {
     "data": {
      "text/plain": [
       "'teser'"
      ]
     },
     "execution_count": 7,
     "metadata": {},
     "output_type": "execute_result"
    }
   ],
   "source": [
    "# Вывести на экран слово \"reset\" задом наперёд\n",
    "string[-1:-6:-1]"
   ]
  },
  {
   "cell_type": "code",
   "execution_count": 8,
   "metadata": {},
   "outputs": [
    {
     "data": {
      "text/plain": [
       "'teser'"
      ]
     },
     "execution_count": 8,
     "metadata": {},
     "output_type": "execute_result"
    }
   ],
   "source": [
    "string.split()[-1][::-1]"
   ]
  },
  {
   "cell_type": "code",
   "execution_count": 9,
   "metadata": {},
   "outputs": [
    {
     "name": "stdout",
     "output_type": "stream",
     "text": [
      "С\n",
      "е\n",
      "м\n",
      "ь\n",
      " \n",
      "б\n",
      "е\n",
      "д\n",
      " \n",
      "—\n",
      " \n",
      "о\n",
      "д\n",
      "и\n",
      "н\n",
      " \n",
      "r\n",
      "e\n",
      "s\n",
      "e\n",
      "t\n"
     ]
    }
   ],
   "source": [
    "# Вывести на экран всю строку в столбик\n",
    "for char in string:\n",
    "    print(char)"
   ]
  },
  {
   "cell_type": "code",
   "execution_count": 10,
   "metadata": {},
   "outputs": [
    {
     "name": "stdout",
     "output_type": "stream",
     "text": [
      "С*е*м*ь* *б*е*д* *—* *о*д*и*н* *r*e*s*e*t*"
     ]
    }
   ],
   "source": [
    "# Вывести на экран всю строку (в строчку), добавив знак \"*\" между символами\n",
    "for char in string:\n",
    "    print(char, end = '*')"
   ]
  },
  {
   "cell_type": "markdown",
   "metadata": {},
   "source": [
    "Задание: вывести на экран строку задом наперёд двумя способами:"
   ]
  },
  {
   "cell_type": "code",
   "execution_count": 11,
   "metadata": {},
   "outputs": [
    {
     "data": {
      "text/plain": [
       "'teser нидо — деб ьмеС'"
      ]
     },
     "execution_count": 11,
     "metadata": {},
     "output_type": "execute_result"
    }
   ],
   "source": [
    "# с помощью среза\n",
    "string[::-1]"
   ]
  },
  {
   "cell_type": "code",
   "execution_count": 15,
   "metadata": {},
   "outputs": [
    {
     "name": "stdout",
     "output_type": "stream",
     "text": [
      "teser нидо — деб ьмеС"
     ]
    }
   ],
   "source": [
    "# с помощью цикла\n",
    "for i in range(1, len(string)+1):\n",
    "    print(string[-i], end = '')"
   ]
  },
  {
   "cell_type": "code",
   "execution_count": 17,
   "metadata": {},
   "outputs": [
    {
     "name": "stdout",
     "output_type": "stream",
     "text": [
      "teser нидо — деб ьмеС"
     ]
    }
   ],
   "source": [
    "h = len(string)\n",
    "while h != 0:\n",
    "    print(string[h-1], end = '')\n",
    "    h-=1"
   ]
  },
  {
   "cell_type": "markdown",
   "metadata": {},
   "source": [
    "### Поиск подстроки в строке"
   ]
  },
  {
   "cell_type": "code",
   "execution_count": 28,
   "metadata": {},
   "outputs": [],
   "source": [
    "info = 'Фамилия: Иванова, имя: Агафья, e-mail: agafiya@ivanova.me'"
   ]
  },
  {
   "cell_type": "markdown",
   "metadata": {},
   "source": [
    "Задание: выделить из строки email двумя способами:"
   ]
  },
  {
   "cell_type": "code",
   "execution_count": 19,
   "metadata": {},
   "outputs": [
    {
     "data": {
      "text/plain": [
       "'vanya@ivanov.me'"
      ]
     },
     "execution_count": 19,
     "metadata": {},
     "output_type": "execute_result"
    }
   ],
   "source": [
    "# с помощью split:\n",
    "info.split()[-1]"
   ]
  },
  {
   "cell_type": "code",
   "execution_count": 20,
   "metadata": {},
   "outputs": [
    {
     "data": {
      "text/plain": [
       "'vanya@ivanov.me'"
      ]
     },
     "execution_count": 20,
     "metadata": {},
     "output_type": "execute_result"
    }
   ],
   "source": [
    "# с помощью find:\n",
    "info[info.find('l: ')+3:]"
   ]
  },
  {
   "cell_type": "code",
   "execution_count": 21,
   "metadata": {},
   "outputs": [
    {
     "data": {
      "text/plain": [
       "'vanya@ivanov.me'"
      ]
     },
     "execution_count": 21,
     "metadata": {},
     "output_type": "execute_result"
    }
   ],
   "source": [
    "info[info.find('e-mail')+8:]"
   ]
  },
  {
   "cell_type": "markdown",
   "metadata": {},
   "source": [
    "Задание: выделить из строки имя человека"
   ]
  },
  {
   "cell_type": "code",
   "execution_count": 23,
   "metadata": {},
   "outputs": [
    {
     "data": {
      "text/plain": [
       "'Иван'"
      ]
     },
     "execution_count": 23,
     "metadata": {},
     "output_type": "execute_result"
    }
   ],
   "source": [
    "# с помощью split:\n",
    "info.split()[3][:-1]"
   ]
  },
  {
   "cell_type": "code",
   "execution_count": 24,
   "metadata": {},
   "outputs": [
    {
     "data": {
      "text/plain": [
       "'Иван'"
      ]
     },
     "execution_count": 24,
     "metadata": {},
     "output_type": "execute_result"
    }
   ],
   "source": [
    "# с помощью find:\n",
    "info[info.find('имя')+5:info.find(', e')]"
   ]
  },
  {
   "cell_type": "code",
   "execution_count": 25,
   "metadata": {},
   "outputs": [
    {
     "data": {
      "text/plain": [
       "'Иван'"
      ]
     },
     "execution_count": 25,
     "metadata": {},
     "output_type": "execute_result"
    }
   ],
   "source": [
    "info[info.find('имя')+5:info.find('e-mail')-2]"
   ]
  },
  {
   "cell_type": "code",
   "execution_count": 26,
   "metadata": {},
   "outputs": [
    {
     "data": {
      "text/plain": [
       "'Иван'"
      ]
     },
     "execution_count": 26,
     "metadata": {},
     "output_type": "execute_result"
    }
   ],
   "source": [
    "start = info.find('имя')+5\n",
    "end = info.find('e-mail')-2\n",
    "info[start:end]"
   ]
  },
  {
   "cell_type": "markdown",
   "metadata": {},
   "source": [
    "Задание: составить новую строку, содержащую имя и фамилию человека через пробел, и далее в скобках - электронный адрес  \n",
    "Пример: Иван Иванов (vanya@ivanov.me)"
   ]
  },
  {
   "cell_type": "code",
   "execution_count": 29,
   "metadata": {},
   "outputs": [
    {
     "name": "stdout",
     "output_type": "stream",
     "text": [
      "Агафья Иванова (agafiya@ivanova.me)\n"
     ]
    }
   ],
   "source": [
    "name = info[info.find('имя: ') + len('имя: '): info.find(', e-mail')]\n",
    "fam = info[info.find('Фамилия: ') + len('Фамилия: '): info.find(', имя')]\n",
    "mail = info[info.find('e-mail: ')+len('e-mail: '):]\n",
    "print('{} {} ({})'.format(name, fam, mail))"
   ]
  },
  {
   "cell_type": "markdown",
   "metadata": {},
   "source": [
    "# Работа с файлами и регулярными выражениями "
   ]
  },
  {
   "cell_type": "markdown",
   "metadata": {},
   "source": [
    "Знакомимся с содержимым файла info.txt  \n",
    "Ссылка на файл, если не удастся создать его самостоятельно: https://drive.google.com/file/d/1TTnY28guTZjZzkvDobxpShx4YFNwHjug/view?usp=sharing "
   ]
  },
  {
   "cell_type": "code",
   "execution_count": 33,
   "metadata": {
    "scrolled": true
   },
   "outputs": [
    {
     "name": "stdout",
     "output_type": "stream",
     "text": [
      "Иванов\tИван\t1.01.1996\tvanya@mail.ru\t+7 (903) 221-23-35\n",
      "Смит\tАнна\t3.09.1985\tbeauty@gmail.com\t+1 (501) 342-52-31\n",
      "Петров\tПетр\t5.05.1965\tbig_boss@mail.ru\t+7 (999) 345-67-89\n",
      "Сидорова\tАнгелина\t21.06.1977\ta.sidorova@yandex.ru\t+7 (777) 234-56-83\n",
      "Дятлов\tАнатолий\t13.02.1997\tterminator@mail.ru\t+7 (920) 253-43-21\n",
      "Красавцева\tЮлия\t15.04.1998\tyulechka@gmail.com\t+45 (3452) 234-32-34\n"
     ]
    }
   ],
   "source": [
    "with open('info.txt', encoding = 'ansi') as f:\n",
    "    for line in f: \n",
    "        print(line, end = '')"
   ]
  },
  {
   "cell_type": "markdown",
   "metadata": {},
   "source": [
    "Задание: вывести на экран список имён сотрудников:"
   ]
  },
  {
   "cell_type": "code",
   "execution_count": 41,
   "metadata": {},
   "outputs": [
    {
     "name": "stdout",
     "output_type": "stream",
     "text": [
      "Иван\n",
      "Анна\n",
      "Петр\n",
      "Ангелина\n",
      "Анатолий\n",
      "Юлия\n"
     ]
    }
   ],
   "source": [
    "with open('info.txt') as f:\n",
    "    for line in f:\n",
    "        name = line.split('\\t')[1]\n",
    "        print(name)"
   ]
  },
  {
   "cell_type": "markdown",
   "metadata": {},
   "source": [
    "Задание: вывести отдельно имена и фамилии молодых (до 25 лет) и опытных сотрудников"
   ]
  },
  {
   "cell_type": "code",
   "execution_count": 52,
   "metadata": {},
   "outputs": [
    {
     "name": "stdout",
     "output_type": "stream",
     "text": [
      "МОЛОДЫЕ\n",
      "Иван Иванов\n",
      "Анатолий Дятлов\n",
      "Юлия Красавцева\n",
      "\n",
      "ОПЫТНЫЕ\n",
      "Анна Смит\n",
      "Петр Петров\n",
      "Ангелина Сидорова\n",
      "\n"
     ]
    }
   ],
   "source": [
    "staff = {'молодые':[], 'опытные':[]}\n",
    "with open('info.txt') as f:\n",
    "    for line in f:\n",
    "        info = line.split('\\t')\n",
    "        age = 2019 - int(info[2][-4:])\n",
    "        if age < 25:\n",
    "            staff['молодые'].append('{} {}'.format(info[1], info[0]))\n",
    "        else:\n",
    "            staff['опытные'].append('{} {}'.format(info[1], info[0]))\n",
    "            \n",
    "for experience in staff:\n",
    "    print(experience.upper())\n",
    "    for person in staff[experience]:\n",
    "        print(person)\n",
    "    print()"
   ]
  },
  {
   "cell_type": "code",
   "execution_count": 50,
   "metadata": {},
   "outputs": [
    {
     "name": "stdout",
     "output_type": "stream",
     "text": [
      "{'молодые': ['Иванов Иван', 'Дятлов Анатолий', 'Красавцева Юлия'], 'опытные': ['Смит Анна', 'Петров Петр', 'Сидорова Ангелина']}\n"
     ]
    }
   ],
   "source": [
    "staff = {'молодые':[], 'опытные':[]}\n",
    "with open('info.txt') as f:\n",
    "    for line in f:\n",
    "        info = line.split('\\t')\n",
    "        \n",
    "        if 2019-int(info[2][-4:]) < 25:\n",
    "            staff ['молодые'].append(info[0]+' '+info[1])\n",
    "        else:\n",
    "            staff ['опытные'].append(info[0]+' '+info[1])\n",
    "\n",
    "print(staff)"
   ]
  },
  {
   "cell_type": "markdown",
   "metadata": {},
   "source": [
    "#### Задание:\n",
    "Составить словарь, содержащий информацию о количестве сотрудников из России (+7 (9...)), Казахстана (+7 (7...)) и дальнего зарубежья."
   ]
  },
  {
   "cell_type": "code",
   "execution_count": 58,
   "metadata": {},
   "outputs": [
    {
     "name": "stdout",
     "output_type": "stream",
     "text": [
      "{'Россия': 3, 'Казахстан': 1, 'Дальнее зарубежье': 2}\n"
     ]
    }
   ],
   "source": [
    "# С использованием регулярных выражений:\n",
    "import re\n",
    "new_staff = {'Россия':0, 'Казахстан':0, 'Дальнее зарубежье':0}\n",
    "pattern = re.compile('\\+\\d+ \\(\\d')\n",
    "with open('info.txt') as f:\n",
    "    for line in f:\n",
    "        tel = pattern.findall(line)[0].split()\n",
    "        if tel[0] == '+7':\n",
    "            if tel[1] == '(7':\n",
    "                new_staff['Казахстан'] += 1\n",
    "            else:\n",
    "                new_staff['Россия'] += 1\n",
    "        else:\n",
    "            new_staff['Дальнее зарубежье'] += 1\n",
    "print(new_staff)"
   ]
  },
  {
   "cell_type": "code",
   "execution_count": null,
   "metadata": {},
   "outputs": [],
   "source": []
  }
 ],
 "metadata": {
  "kernelspec": {
   "display_name": "Python 3",
   "language": "python",
   "name": "python3"
  },
  "language_info": {
   "codemirror_mode": {
    "name": "ipython",
    "version": 3
   },
   "file_extension": ".py",
   "mimetype": "text/x-python",
   "name": "python",
   "nbconvert_exporter": "python",
   "pygments_lexer": "ipython3",
   "version": "3.7.1"
  }
 },
 "nbformat": 4,
 "nbformat_minor": 2
}
