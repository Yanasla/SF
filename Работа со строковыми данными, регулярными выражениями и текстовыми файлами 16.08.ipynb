{
  "nbformat": 4,
  "nbformat_minor": 0,
  "metadata": {
    "kernelspec": {
      "display_name": "Python 3",
      "language": "python",
      "name": "python3"
    },
    "language_info": {
      "codemirror_mode": {
        "name": "ipython",
        "version": 3
      },
      "file_extension": ".py",
      "mimetype": "text/x-python",
      "name": "python",
      "nbconvert_exporter": "python",
      "pygments_lexer": "ipython3",
      "version": "3.7.4"
    },
    "colab": {
      "name": "Строки, файлы и регулярные выражения.ipynb",
      "provenance": []
    }
  },
  "cells": [
    {
      "cell_type": "markdown",
      "metadata": {
        "id": "mFI3D7edCSIR",
        "colab_type": "text"
      },
      "source": [
        "# Строки в Python"
      ]
    },
    {
      "cell_type": "markdown",
      "metadata": {
        "id": "4iR3F3vkCSIU",
        "colab_type": "text"
      },
      "source": [
        "### Строковая величина в Python — это неизменяемый набор символов в формате Unicode."
      ]
    },
    {
      "cell_type": "markdown",
      "metadata": {
        "id": "h2SN33MACSIX",
        "colab_type": "text"
      },
      "source": [
        "\n",
        "\n",
        "Мы уже рассматривали строки как простой тип данных наряду с целыми и вещественными числами и знаем, что строка – это последовательность символов, заключенных в одинарные или двойные кавычки.\n",
        "\n",
        "В Python нет символьного типа, т. е. типа данных, объектами которого являются одиночные символы. Однако язык позволяет рассматривать строки как объекты, состоящие из подстрок длинной в один и более символов. При этом, в отличие от списков, строки не принято относить к структурам данных. Видимо потому, что структуры данных состоят из более простых типов данных, а для строк в Python нет более простого (символьного) типа.\n",
        "\n",
        "С другой стороны, строка, как и список, – это упорядоченная последовательность элементов. Следовательно, из нее можно извлекать отдельные символы и срезы."
      ]
    },
    {
      "cell_type": "markdown",
      "metadata": {
        "id": "6rL6p6gdCSIa",
        "colab_type": "text"
      },
      "source": [
        "### Как создать строку\n",
        "\n",
        "Строки всегда создаются одним из трех способов. Вы можете использовать одинарные, двойные и тройные кавычки. Давайте посмотрим"
      ]
    },
    {
      "cell_type": "code",
      "metadata": {
        "id": "B33eL0r_CSIc",
        "colab_type": "code",
        "colab": {}
      },
      "source": [
        "my_string = \"Добро пожаловать в Python!\"\n",
        "another_string = 'Я новый текст тут...'\n",
        " \n",
        "a_long_string = '''А это у нас\n",
        "новая строка\n",
        "в троичных скобках'''"
      ],
      "execution_count": 2,
      "outputs": []
    },
    {
      "cell_type": "code",
      "metadata": {
        "id": "X6Vl0qPkCSIt",
        "colab_type": "code",
        "colab": {
          "base_uri": "https://localhost:8080/",
          "height": 35
        },
        "outputId": "c65fe184-097f-42a1-8265-011e13f44a5a"
      },
      "source": [
        "a_long_string"
      ],
      "execution_count": 3,
      "outputs": [
        {
          "output_type": "execute_result",
          "data": {
            "application/vnd.google.colaboratory.intrinsic+json": {
              "type": "string"
            },
            "text/plain": [
              "'А это у нас\\nновая строка\\nв троичных скобках'"
            ]
          },
          "metadata": {
            "tags": []
          },
          "execution_count": 3
        }
      ]
    },
    {
      "cell_type": "code",
      "metadata": {
        "id": "jqS8XC78CSI4",
        "colab_type": "code",
        "colab": {}
      },
      "source": [
        "my_string = \"I'm a Python programmer!\"\n",
        "otherString = 'Слово \"Python\" обычно подразумевает змею'\n",
        "tripleString = \"\"\"В такой \"строке\" мы можем 'использовать' все.\"\"\"\n",
        "strInt = str(123)\n"
      ],
      "execution_count": 4,
      "outputs": []
    },
    {
      "cell_type": "code",
      "metadata": {
        "id": "RuHJB44xCSJA",
        "colab_type": "code",
        "colab": {
          "base_uri": "https://localhost:8080/",
          "height": 35
        },
        "outputId": "9a65ff2a-361d-45c8-bc73-99b867413a9c"
      },
      "source": [
        "strInt"
      ],
      "execution_count": 5,
      "outputs": [
        {
          "output_type": "execute_result",
          "data": {
            "application/vnd.google.colaboratory.intrinsic+json": {
              "type": "string"
            },
            "text/plain": [
              "'123'"
            ]
          },
          "metadata": {
            "tags": []
          },
          "execution_count": 5
        }
      ]
    },
    {
      "cell_type": "markdown",
      "metadata": {
        "id": "79qQH_EdCSJJ",
        "colab_type": "text"
      },
      "source": [
        "#### В Python, начиная с версии 3, все строки являются юникодом."
      ]
    },
    {
      "cell_type": "markdown",
      "metadata": {
        "id": "6sXNhPByCSJK",
        "colab_type": "text"
      },
      "source": [
        "Строки являются **итерируемыми объектами**. \n",
        "\n",
        "Следовательно, по ним можно проходиться циклами:"
      ]
    },
    {
      "cell_type": "code",
      "metadata": {
        "id": "M9R6hGvHCSJM",
        "colab_type": "code",
        "colab": {
          "base_uri": "https://localhost:8080/",
          "height": 52
        },
        "outputId": "ed7a8760-1dd2-4cd8-cd88-149847c1039f"
      },
      "source": [
        "iter_string = 'Проитерируй меня!'\n",
        "print(type(iter_string))\n",
        "\n",
        "for symbol in iter_string:\n",
        "    print(symbol, end = ' ')"
      ],
      "execution_count": 6,
      "outputs": [
        {
          "output_type": "stream",
          "text": [
            "<class 'str'>\n",
            "П р о и т е р и р у й   м е н я ! "
          ],
          "name": "stdout"
        }
      ]
    },
    {
      "cell_type": "markdown",
      "metadata": {
        "id": "jrrpSNXxCSJV",
        "colab_type": "text"
      },
      "source": [
        "А также у строк можно брать срезы "
      ]
    },
    {
      "cell_type": "code",
      "metadata": {
        "id": "BiCtvi1BCSJX",
        "colab_type": "code",
        "colab": {
          "base_uri": "https://localhost:8080/",
          "height": 69
        },
        "outputId": "49170a02-97ae-4a75-8e72-a5cc6e8dbe4d"
      },
      "source": [
        "print(iter_string[0])\n",
        "print(iter_string[7:])\n",
        "print(iter_string[::2])\n"
      ],
      "execution_count": 7,
      "outputs": [
        {
          "output_type": "stream",
          "text": [
            "П\n",
            "ируй меня!\n",
            "Потррймн!\n"
          ],
          "name": "stdout"
        }
      ]
    },
    {
      "cell_type": "code",
      "metadata": {
        "id": "4OyR5ellE9Vs",
        "colab_type": "code",
        "colab": {}
      },
      "source": [
        "#Задача\n",
        "\n",
        "proverb = 'Программисты - это устройства, преобразующие кофеин в код.'\n",
        "\n",
        "#достаньте слово кофе с помощью срезов\n",
        "\n"
      ],
      "execution_count": 8,
      "outputs": []
    },
    {
      "cell_type": "markdown",
      "metadata": {
        "id": "l39r5h_rCSJe",
        "colab_type": "text"
      },
      "source": [
        "#### Важным отличием от списков является неизменяемость строк в Python. Нельзя перезаписать какой-то отдельный символ или срез в строке"
      ]
    },
    {
      "cell_type": "code",
      "metadata": {
        "scrolled": true,
        "id": "1e1ncJObCSJf",
        "colab_type": "code",
        "colab": {
          "base_uri": "https://localhost:8080/",
          "height": 167
        },
        "outputId": "aadcb9bd-b307-425b-ebe6-cd0bcad4b04b"
      },
      "source": [
        "iter_string[-1] = '.'"
      ],
      "execution_count": 9,
      "outputs": [
        {
          "output_type": "error",
          "ename": "TypeError",
          "evalue": "ignored",
          "traceback": [
            "\u001b[0;31m---------------------------------------------------------------------------\u001b[0m",
            "\u001b[0;31mTypeError\u001b[0m                                 Traceback (most recent call last)",
            "\u001b[0;32m<ipython-input-9-0c6c9f4a8e47>\u001b[0m in \u001b[0;36m<module>\u001b[0;34m()\u001b[0m\n\u001b[0;32m----> 1\u001b[0;31m \u001b[0miter_string\u001b[0m\u001b[0;34m[\u001b[0m\u001b[0;34m-\u001b[0m\u001b[0;36m1\u001b[0m\u001b[0;34m]\u001b[0m \u001b[0;34m=\u001b[0m \u001b[0;34m'.'\u001b[0m\u001b[0;34m\u001b[0m\u001b[0;34m\u001b[0m\u001b[0m\n\u001b[0m",
            "\u001b[0;31mTypeError\u001b[0m: 'str' object does not support item assignment"
          ]
        }
      ]
    },
    {
      "cell_type": "markdown",
      "metadata": {
        "id": "ALfPjbwfCSJm",
        "colab_type": "text"
      },
      "source": [
        "Поэтому такой код нам ничего не даст:"
      ]
    },
    {
      "cell_type": "code",
      "metadata": {
        "id": "8-a-K6T_CSJo",
        "colab_type": "code",
        "colab": {
          "base_uri": "https://localhost:8080/",
          "height": 35
        },
        "outputId": "778b0a65-a8e8-4f25-db43-4a40dfb4d4c2"
      },
      "source": [
        "for symbol in iter_string:\n",
        "    symbol = symbol.upper() # upper() - это метод, который приводит строку в верхнему регистру\n",
        "    print(symbol, end = ' ')\n",
        "    \n",
        "iter_string"
      ],
      "execution_count": 11,
      "outputs": [
        {
          "output_type": "stream",
          "text": [
            "П Р О И Т Е Р И Р У Й   М Е Н Я ! "
          ],
          "name": "stdout"
        },
        {
          "output_type": "execute_result",
          "data": {
            "application/vnd.google.colaboratory.intrinsic+json": {
              "type": "string"
            },
            "text/plain": [
              "'Проитерируй меня!'"
            ]
          },
          "metadata": {
            "tags": []
          },
          "execution_count": 11
        }
      ]
    },
    {
      "cell_type": "code",
      "metadata": {
        "id": "XBQt5rQBCSJv",
        "colab_type": "code",
        "colab": {},
        "outputId": "2c0954e3-199f-49d7-c08d-67dcdd5f2cf6"
      },
      "source": [
        "iter_string.upper()"
      ],
      "execution_count": null,
      "outputs": [
        {
          "output_type": "execute_result",
          "data": {
            "text/plain": [
              "'ПРОИТЕРИРУЙ МЕНЯ!'"
            ]
          },
          "metadata": {
            "tags": []
          },
          "execution_count": 12
        }
      ]
    },
    {
      "cell_type": "markdown",
      "metadata": {
        "id": "1PdL2m6UCSJ1",
        "colab_type": "text"
      },
      "source": [
        "А такой выдаст ошибку!"
      ]
    },
    {
      "cell_type": "code",
      "metadata": {
        "id": "B8s6c4rQCSJ2",
        "colab_type": "code",
        "colab": {
          "base_uri": "https://localhost:8080/",
          "height": 219
        },
        "outputId": "e82139ad-ea99-4c7e-f716-c225a5543c0c"
      },
      "source": [
        "for symbol in range(len(iter_string)):\n",
        "    iter_string[symbol] = iter_string[symbol].upper()\n",
        "    \n",
        "iter_string"
      ],
      "execution_count": 12,
      "outputs": [
        {
          "output_type": "error",
          "ename": "TypeError",
          "evalue": "ignored",
          "traceback": [
            "\u001b[0;31m---------------------------------------------------------------------------\u001b[0m",
            "\u001b[0;31mTypeError\u001b[0m                                 Traceback (most recent call last)",
            "\u001b[0;32m<ipython-input-12-3da5be3113cd>\u001b[0m in \u001b[0;36m<module>\u001b[0;34m()\u001b[0m\n\u001b[1;32m      1\u001b[0m \u001b[0;32mfor\u001b[0m \u001b[0msymbol\u001b[0m \u001b[0;32min\u001b[0m \u001b[0mrange\u001b[0m\u001b[0;34m(\u001b[0m\u001b[0mlen\u001b[0m\u001b[0;34m(\u001b[0m\u001b[0miter_string\u001b[0m\u001b[0;34m)\u001b[0m\u001b[0;34m)\u001b[0m\u001b[0;34m:\u001b[0m\u001b[0;34m\u001b[0m\u001b[0;34m\u001b[0m\u001b[0m\n\u001b[0;32m----> 2\u001b[0;31m     \u001b[0miter_string\u001b[0m\u001b[0;34m[\u001b[0m\u001b[0msymbol\u001b[0m\u001b[0;34m]\u001b[0m \u001b[0;34m=\u001b[0m \u001b[0miter_string\u001b[0m\u001b[0;34m[\u001b[0m\u001b[0msymbol\u001b[0m\u001b[0;34m]\u001b[0m\u001b[0;34m.\u001b[0m\u001b[0mupper\u001b[0m\u001b[0;34m(\u001b[0m\u001b[0;34m)\u001b[0m\u001b[0;34m\u001b[0m\u001b[0;34m\u001b[0m\u001b[0m\n\u001b[0m\u001b[1;32m      3\u001b[0m \u001b[0;34m\u001b[0m\u001b[0m\n\u001b[1;32m      4\u001b[0m \u001b[0miter_string\u001b[0m\u001b[0;34m\u001b[0m\u001b[0;34m\u001b[0m\u001b[0m\n",
            "\u001b[0;31mTypeError\u001b[0m: 'str' object does not support item assignment"
          ]
        }
      ]
    },
    {
      "cell_type": "markdown",
      "metadata": {
        "id": "MJ3o2GMVCSJ9",
        "colab_type": "text"
      },
      "source": [
        "Строка является неизменяемым объектом. \n",
        "Мы не можем её изменять, мы можем только создавать новую строку \"на месте\""
      ]
    },
    {
      "cell_type": "code",
      "metadata": {
        "scrolled": true,
        "id": "a9y_borICSJ-",
        "colab_type": "code",
        "colab": {
          "base_uri": "https://localhost:8080/",
          "height": 34
        },
        "outputId": "d395dfdb-0bf3-43fd-b362-d9dea3ed9a9e"
      },
      "source": [
        "print(id(iter_string))"
      ],
      "execution_count": 13,
      "outputs": [
        {
          "output_type": "stream",
          "text": [
            "140669219635072\n"
          ],
          "name": "stdout"
        }
      ]
    },
    {
      "cell_type": "code",
      "metadata": {
        "id": "jf0A8RhhCSKH",
        "colab_type": "code",
        "colab": {
          "base_uri": "https://localhost:8080/",
          "height": 52
        },
        "outputId": "71bb411d-e350-4d83-c916-d8b416b1fbe9"
      },
      "source": [
        "iter_string = iter_string[0:-1] + '.'\n",
        "print(id(iter_string))\n",
        "print(iter_string)\n"
      ],
      "execution_count": 14,
      "outputs": [
        {
          "output_type": "stream",
          "text": [
            "140669219332704\n",
            "Проитерируй меня.\n"
          ],
          "name": "stdout"
        }
      ]
    },
    {
      "cell_type": "markdown",
      "metadata": {
        "id": "RJTH0-G7CSKM",
        "colab_type": "text"
      },
      "source": [
        "### Методы строк"
      ]
    },
    {
      "cell_type": "code",
      "metadata": {
        "id": "r_SQKFHxCSKO",
        "colab_type": "code",
        "colab": {}
      },
      "source": [
        "# вывод помощи по методам строки \n",
        "help(str)"
      ],
      "execution_count": null,
      "outputs": []
    },
    {
      "cell_type": "code",
      "metadata": {
        "id": "1v0vYGDhCSKV",
        "colab_type": "code",
        "colab": {},
        "outputId": "ad3cda6a-6b65-4166-a71e-e5c2ad612273"
      },
      "source": [
        "#конкатенация\n",
        "S1 = 'spam'\n",
        "S2 = ' eggs'\n",
        "print(S1 + S2)"
      ],
      "execution_count": null,
      "outputs": [
        {
          "output_type": "stream",
          "text": [
            "spam eggs\n"
          ],
          "name": "stdout"
        }
      ]
    },
    {
      "cell_type": "code",
      "metadata": {
        "id": "eS8ZAmkUCSKc",
        "colab_type": "code",
        "colab": {},
        "outputId": "c6823ef1-0378-4fc4-ae1e-d52b857291bc"
      },
      "source": [
        "#Дублирование\n",
        "print('Info number 1')\n",
        "print('*****' * 5)\n",
        "print('Info number 2')\n"
      ],
      "execution_count": null,
      "outputs": [
        {
          "output_type": "stream",
          "text": [
            "Info number 1\n",
            "*************************\n",
            "Info number 2\n"
          ],
          "name": "stdout"
        }
      ]
    },
    {
      "cell_type": "code",
      "metadata": {
        "id": "TGsH5JqZCSKi",
        "colab_type": "code",
        "colab": {},
        "outputId": "ffa47687-58a4-4f19-f2ad-bb3aa0b3350b"
      },
      "source": [
        "#наличие подстроки в строке\n",
        "print('hello' in 'hello world')\n",
        "print('hello' in 'fasfasdfsf')"
      ],
      "execution_count": null,
      "outputs": [
        {
          "output_type": "stream",
          "text": [
            "True\n",
            "False\n"
          ],
          "name": "stdout"
        }
      ]
    },
    {
      "cell_type": "code",
      "metadata": {
        "id": "U5GRP_PxCSKp",
        "colab_type": "code",
        "colab": {},
        "outputId": "51ad2e0d-5d46-4563-d86b-cf6e6f8e7508"
      },
      "source": [
        "#длина строки\n",
        "len('spam')"
      ],
      "execution_count": null,
      "outputs": [
        {
          "output_type": "execute_result",
          "data": {
            "text/plain": [
              "4"
            ]
          },
          "metadata": {
            "tags": []
          },
          "execution_count": 54
        }
      ]
    },
    {
      "cell_type": "markdown",
      "metadata": {
        "id": "n2V1VCQtCSKx",
        "colab_type": "text"
      },
      "source": [
        "### Превращение строки в список"
      ]
    },
    {
      "cell_type": "code",
      "metadata": {
        "id": "WO9mFdbtCSKz",
        "colab_type": "code",
        "colab": {},
        "outputId": "47d57c6e-2e40-4d9a-8c2c-6983fed78a85"
      },
      "source": [
        "phrase = 'ягоды, желуди, носорог'\n",
        "phraseList = phrase.split(',')\n",
        "phraseList"
      ],
      "execution_count": null,
      "outputs": [
        {
          "output_type": "execute_result",
          "data": {
            "text/plain": [
              "['ягоды', ' желуди', ' носорог']"
            ]
          },
          "metadata": {
            "tags": []
          },
          "execution_count": 24
        }
      ]
    },
    {
      "cell_type": "code",
      "metadata": {
        "id": "5QtiiSvmCSK7",
        "colab_type": "code",
        "colab": {},
        "outputId": "b7a7157e-a63c-4f2a-e26e-ea8c99ae8fc4"
      },
      "source": [
        "phrase = 'разделитель может быть любым'.split('может') # функция split принимает в качестве аргумента разделитель\n",
        "phrase"
      ],
      "execution_count": null,
      "outputs": [
        {
          "output_type": "execute_result",
          "data": {
            "text/plain": [
              "['разделитель ', ' быть любым']"
            ]
          },
          "metadata": {
            "tags": []
          },
          "execution_count": 26
        }
      ]
    },
    {
      "cell_type": "code",
      "metadata": {
        "id": "nv6PP4ZzCSLA",
        "colab_type": "code",
        "colab": {},
        "outputId": "006a77bf-1187-4c05-946d-0f32d6c73bbb"
      },
      "source": [
        "'может'.join(phrase)"
      ],
      "execution_count": null,
      "outputs": [
        {
          "output_type": "execute_result",
          "data": {
            "text/plain": [
              "'разделитель может быть любым'"
            ]
          },
          "metadata": {
            "tags": []
          },
          "execution_count": 27
        }
      ]
    },
    {
      "cell_type": "code",
      "metadata": {
        "id": "HRBaNe05CSLF",
        "colab_type": "code",
        "colab": {},
        "outputId": "e20aa311-a1fe-458d-de7f-41a0f04b8734"
      },
      "source": [
        "A = ['ягоды', ' желуди', ' носорог']\n",
        "'?'.join(A)"
      ],
      "execution_count": null,
      "outputs": [
        {
          "output_type": "execute_result",
          "data": {
            "text/plain": [
              "'ягоды? желуди? носорог'"
            ]
          },
          "metadata": {
            "tags": []
          },
          "execution_count": 28
        }
      ]
    },
    {
      "cell_type": "markdown",
      "metadata": {
        "id": "n6A7J3I5CSLM",
        "colab_type": "text"
      },
      "source": [
        "### Список методов строк\n",
        "https://pythonworld.ru/tipy-dannyx-v-python/stroki-funkcii-i-metody-strok.html\n",
        "\n",
        "Или help(str)"
      ]
    },
    {
      "cell_type": "markdown",
      "metadata": {
        "id": "CrYF3mG8CSLN",
        "colab_type": "text"
      },
      "source": [
        "### Методы find() и replace()\n",
        "Метод find() ищет подстроку в строке и возвращает индекс первого элемента найденной подстроки. Если подстрока не найдена, то возвращает -1.\n",
        "Метод replace() заменяет одну подстроку на другую"
      ]
    },
    {
      "cell_type": "code",
      "metadata": {
        "id": "9LX9jX9lCSLO",
        "colab_type": "code",
        "colab": {},
        "outputId": "965e7d93-5082-42d8-86f7-c6e15f946542"
      },
      "source": [
        "s = 'red blue orange white blue'\n",
        "s.find('grey')"
      ],
      "execution_count": null,
      "outputs": [
        {
          "output_type": "execute_result",
          "data": {
            "text/plain": [
              "-1"
            ]
          },
          "metadata": {
            "tags": []
          },
          "execution_count": 29
        }
      ]
    },
    {
      "cell_type": "code",
      "metadata": {
        "id": "ecJj8zPBCSLT",
        "colab_type": "code",
        "colab": {}
      },
      "source": [
        ""
      ],
      "execution_count": null,
      "outputs": []
    },
    {
      "cell_type": "code",
      "metadata": {
        "id": "c5TCHh-wCSLa",
        "colab_type": "code",
        "colab": {},
        "outputId": "5dd3fe5a-f97a-4123-9c36-b4edff53b7e6"
      },
      "source": [
        "s.find('green')"
      ],
      "execution_count": null,
      "outputs": [
        {
          "output_type": "execute_result",
          "data": {
            "text/plain": [
              "-1"
            ]
          },
          "metadata": {
            "tags": []
          },
          "execution_count": 76
        }
      ]
    },
    {
      "cell_type": "code",
      "metadata": {
        "id": "MGjgmFcLCSLi",
        "colab_type": "code",
        "colab": {},
        "outputId": "dc9cab7e-717d-450d-eb14-77cf46bfe421"
      },
      "source": [
        "a = 'DA KTO ETOT VASH REPLACE? DA'.replace('DA', 'NET')\n",
        "b = a.lower()\n",
        "b.capitalize()\n"
      ],
      "execution_count": null,
      "outputs": [
        {
          "output_type": "execute_result",
          "data": {
            "text/plain": [
              "'Net kto etot vash replace? net'"
            ]
          },
          "metadata": {
            "tags": []
          },
          "execution_count": 30
        }
      ]
    },
    {
      "cell_type": "markdown",
      "metadata": {
        "id": "cT4tg0ttCSLo",
        "colab_type": "text"
      },
      "source": [
        "### Метод format \n",
        "Метод позволяет подставлять значения в строку. Причем можно дополнительно указывать порядок подстановки а также использовать передачу по слову-ключу"
      ]
    },
    {
      "cell_type": "code",
      "metadata": {
        "id": "RUSJZSZpCSLp",
        "colab_type": "code",
        "colab": {},
        "outputId": "cb064d25-1fab-48bb-f3bb-97e00cb576d7"
      },
      "source": [
        "print(\"This is a {}. It's {}.\".format(\"ball\", 12))"
      ],
      "execution_count": null,
      "outputs": [
        {
          "output_type": "stream",
          "text": [
            "This is a ball. It's 12.\n"
          ],
          "name": "stdout"
        }
      ]
    },
    {
      "cell_type": "markdown",
      "metadata": {
        "id": "T_Mo6hw5CSLu",
        "colab_type": "text"
      },
      "source": [
        "Новая альтернатива \"f'string\""
      ]
    },
    {
      "cell_type": "code",
      "metadata": {
        "id": "4YwVKbzZCSLv",
        "colab_type": "code",
        "colab": {},
        "outputId": "2a3a9210-638d-47e7-fd56-f8db8fadf26e"
      },
      "source": [
        "a = 234234\n",
        "phr = f'{a} is a number'\n",
        "phr"
      ],
      "execution_count": null,
      "outputs": [
        {
          "output_type": "execute_result",
          "data": {
            "text/plain": [
              "'234234 is a number'"
            ]
          },
          "metadata": {
            "tags": []
          },
          "execution_count": 33
        }
      ]
    },
    {
      "cell_type": "code",
      "metadata": {
        "id": "UbugMBkpCSL1",
        "colab_type": "code",
        "colab": {},
        "outputId": "5b29c828-72cd-4886-c88b-0c44c9d09d60"
      },
      "source": [
        "size2 = \"height - {2}, length - {0}, width - {1}\"\n",
        "size2.format(3, 6, 2.3)"
      ],
      "execution_count": null,
      "outputs": [
        {
          "output_type": "execute_result",
          "data": {
            "text/plain": [
              "'height - 2.3, length - 3, width - 6'"
            ]
          },
          "metadata": {
            "tags": []
          },
          "execution_count": 41
        }
      ]
    },
    {
      "cell_type": "code",
      "metadata": {
        "id": "88zUBhr5CSL6",
        "colab_type": "code",
        "colab": {},
        "outputId": "6259859d-5b95-499e-a463-d5543375f50a"
      },
      "source": [
        "info = \"This is a {subj}. It's {prop}.\"\n",
        "info.format(subj=\"table\", prop=\"small\")\n",
        "\"This is a table. It's small.\""
      ],
      "execution_count": null,
      "outputs": [
        {
          "output_type": "execute_result",
          "data": {
            "text/plain": [
              "\"This is a table. It's small.\""
            ]
          },
          "metadata": {
            "tags": []
          },
          "execution_count": 80
        }
      ]
    },
    {
      "cell_type": "code",
      "metadata": {
        "id": "VkXvNkLFCSL-",
        "colab_type": "code",
        "colab": {},
        "outputId": "4d25599a-972f-426d-917f-e3692aa2ea79"
      },
      "source": [
        "phrase = 'желуди грибы ветки'\n",
        "for i in phrase.split():\n",
        "    print('Динамически создаем фразу со словом {}'.format(i))"
      ],
      "execution_count": null,
      "outputs": [
        {
          "output_type": "stream",
          "text": [
            "Динамически создаем фразу со словом желуди\n",
            "Динамически создаем фразу со словом грибы\n",
            "Динамически создаем фразу со словом ветки\n"
          ],
          "name": "stdout"
        }
      ]
    },
    {
      "cell_type": "markdown",
      "metadata": {
        "id": "7RsBoydtCSMC",
        "colab_type": "text"
      },
      "source": [
        "Напишите программу, которая \"зашифровывает\" текст, хранящийся в переменной proverb, меняя местами символы, стоящие на нечётных и чётных позициях. Результат шифрования нужно вывести на экран с помощью функции print"
      ]
    },
    {
      "cell_type": "code",
      "metadata": {
        "id": "qleMElYSCSMC",
        "colab_type": "code",
        "colab": {}
      },
      "source": [
        "proverb = 'Программисты - это устройства, преобразующие кофеин в код.'"
      ],
      "execution_count": null,
      "outputs": []
    },
    {
      "cell_type": "code",
      "metadata": {
        "id": "WiTiSwr8CSMI",
        "colab_type": "code",
        "colab": {}
      },
      "source": [
        "#Попробуем по простому"
      ],
      "execution_count": null,
      "outputs": []
    },
    {
      "cell_type": "code",
      "metadata": {
        "id": "PC8gHXjaCSMN",
        "colab_type": "code",
        "colab": {}
      },
      "source": [
        "A = list(proverb)\n",
        "for i in range(0, len(A)-1, 2):\n",
        "    A[i], A[i+1] = A[i+1], A[i]\n",
        " "
      ],
      "execution_count": 15,
      "outputs": []
    },
    {
      "cell_type": "code",
      "metadata": {
        "id": "QPK8H0sYCSMS",
        "colab_type": "code",
        "colab": {
          "base_uri": "https://localhost:8080/",
          "height": 34
        },
        "outputId": "06db25ba-6a2b-41fd-9a65-c2727d0d6a99"
      },
      "source": [
        "print(''.join(A))"
      ],
      "execution_count": 21,
      "outputs": [
        {
          "output_type": "stream",
          "text": [
            "рПгоарммсиыт- э оту тсорсйвт,ап ербоарузщюеик фоие н вок.д\n"
          ],
          "name": "stdout"
        }
      ]
    },
    {
      "cell_type": "code",
      "metadata": {
        "id": "1nXKEXcbCSMW",
        "colab_type": "code",
        "colab": {}
      },
      "source": [
        "even = proverb[::2]"
      ],
      "execution_count": 16,
      "outputs": []
    },
    {
      "cell_type": "code",
      "metadata": {
        "id": "flfdCUIICSMZ",
        "colab_type": "code",
        "colab": {}
      },
      "source": [
        "odd = proverb[1::2]"
      ],
      "execution_count": 17,
      "outputs": []
    },
    {
      "cell_type": "code",
      "metadata": {
        "id": "pY-SpHWICSMe",
        "colab_type": "code",
        "colab": {
          "base_uri": "https://localhost:8080/",
          "height": 34
        },
        "outputId": "7582d902-305c-473e-dbd4-aecef1423736"
      },
      "source": [
        "shifred = ''\n",
        "for i, k in zip(odd, even):\n",
        "    shifred += i\n",
        "    shifred += k\n",
        "\n",
        "print(shifred)"
      ],
      "execution_count": 18,
      "outputs": [
        {
          "output_type": "stream",
          "text": [
            "рПгоарммсиыт- э оту тсорсйвт,ап ербоарузщюеик фоие н вок.д\n"
          ],
          "name": "stdout"
        }
      ]
    },
    {
      "cell_type": "code",
      "metadata": {
        "scrolled": true,
        "id": "DL6jdn7TCSMg",
        "colab_type": "code",
        "colab": {}
      },
      "source": [
        "list(zip(odd, even))"
      ],
      "execution_count": null,
      "outputs": []
    },
    {
      "cell_type": "markdown",
      "metadata": {
        "id": "e7Yn1uzHCSMk",
        "colab_type": "text"
      },
      "source": [
        "Дано вещественное число. Напишите программу, которая считает сумму цифр дробной части числа. Результат вычислений нужно вывести на экран с помощью функции print\n",
        "\n",
        "Используйте переменную number = 56.257 для хранения заданного числа и не меняйте её в процессе выполнения кода.\n"
      ]
    },
    {
      "cell_type": "code",
      "metadata": {
        "id": "8_o2WP2gCSMk",
        "colab_type": "code",
        "colab": {}
      },
      "source": [
        "number = 56.257"
      ],
      "execution_count": null,
      "outputs": []
    },
    {
      "cell_type": "code",
      "metadata": {
        "id": "f7sLW3Q2CSMp",
        "colab_type": "code",
        "colab": {},
        "outputId": "19a4e840-ac00-44e7-8463-028aa949f8c9"
      },
      "source": [
        "str_num = str(number)\n",
        "sum_ = 0\n",
        "if '.' in str_num:\n",
        "    str_num = str_num.split('.')[-1]\n",
        "    for i in str_num:\n",
        "        sum_ += int(i)\n",
        "    print(sum_)\n",
        "else:\n",
        "    print('Это не дробное число')"
      ],
      "execution_count": null,
      "outputs": [
        {
          "output_type": "stream",
          "text": [
            "14\n"
          ],
          "name": "stdout"
        }
      ]
    },
    {
      "cell_type": "markdown",
      "metadata": {
        "id": "8IcMPuFHCSMt",
        "colab_type": "text"
      },
      "source": [
        "### Регулярные выражения"
      ]
    },
    {
      "cell_type": "markdown",
      "metadata": {
        "id": "dxVqSEKYVUj7",
        "colab_type": "text"
      },
      "source": [
        "Представьте, что мы хотим узнать, является ли строка телефонным номером..."
      ]
    },
    {
      "cell_type": "code",
      "metadata": {
        "id": "FkngyR44CSMu",
        "colab_type": "code",
        "colab": {},
        "outputId": "afd81bc3-b2d5-40a9-c8a3-38c4c1c17e95"
      },
      "source": [
        "def isPhoneNumber(text):\n",
        "    if len(text) != 9:\n",
        "        return False  # not phone number-sized\n",
        "    for i in range(0, 3):\n",
        "        if not text[i].isdecimal():\n",
        "            return False  # not an area code\n",
        "    if text[3] != '-':\n",
        "        return False  # does not have first hyphen\n",
        "    for i in range(4, 6):\n",
        "        if not text[i].isdecimal():\n",
        "            return False  # does not have first 3 digits\n",
        "    if text[6] != '-':\n",
        "        return False  # does not have second hyphen\n",
        "    for i in range(7, 8):\n",
        "        if not text[i].isdecimal():\n",
        "            return False  # does not have last 4 digits\n",
        "    return True  # \"text\" is a phone number!\n",
        "\n",
        "print('321-66-13 is a phone number:')\n",
        "print(isPhoneNumber('321-66-13'))\n",
        "print('Moshi moshi is a phone number:')\n",
        "print(isPhoneNumber('23234234234^^&5454'))"
      ],
      "execution_count": null,
      "outputs": [
        {
          "output_type": "stream",
          "text": [
            "321-66-13 is a phone number:\n",
            "True\n",
            "Moshi moshi is a phone number:\n",
            "False\n"
          ],
          "name": "stdout"
        }
      ]
    },
    {
      "cell_type": "markdown",
      "metadata": {
        "id": "aL2zN8RGCSMu",
        "colab_type": "text"
      },
      "source": [
        "Регулярные выражения - язык описания шаблонов (patterns) для извлечения информации из текста.\n",
        "Так что по смыслу  правильнее было бы говорить «шаблонные выражения». Регулярное выражение, или коротко «регулярка», состоит из обычных символов и специальных командных последовательностей."
      ]
    },
    {
      "cell_type": "code",
      "metadata": {
        "id": "cUavrhtFCSMz",
        "colab_type": "code",
        "colab": {},
        "outputId": "3a51906b-b1d7-4904-9beb-1096a1e24d61"
      },
      "source": [
        "import re\n",
        "phoneNumRegex = re.compile(r'\\d{3}-\\d{2}-\\d{2}')\n",
        "mo = phoneNumRegex.search('321-66-13 is a phone number:')\n",
        "xo = phoneNumRegex.search('Moshi moshi is a phone number:')\n",
        "print(mo.group())\n"
      ],
      "execution_count": null,
      "outputs": [
        {
          "output_type": "stream",
          "text": [
            "321-66-13\n"
          ],
          "name": "stdout"
        }
      ]
    },
    {
      "cell_type": "markdown",
      "metadata": {
        "id": "tdkVK7pJCSM4",
        "colab_type": "text"
      },
      "source": [
        "* Импортируем модуль regex с помощью инструкции **import re**\n",
        "* Создаем объект regex с помощью функции re.compile(). При этом используем сырую строку, чтобы избежать экранирования символов \n",
        "* Передаем строку, в которой хотим произвести поиск методу re.search объекта Regex. В случае успеха этот метод вернет объект Мatch \n",
        "* Вызовите метод group() объекта Match, который вернет строку, содержащую фактически найденный текст, соответствующий данному регулярному выражению \n",
        "\n"
      ]
    },
    {
      "cell_type": "markdown",
      "metadata": {
        "id": "njmoSLCqCSM5",
        "colab_type": "text"
      },
      "source": [
        "Основы синтаксиса (воспринимать аккуратно, чтобы не запутаться)\n",
        "\n",
        "\n",
        "Любая строка сама по себе является регулярным выражением. \n",
        "\n",
        "Так, выражению Хаха будет соответствовать строка “Хаха” и только она.\n",
        "Регулярные выражения являются регистрозависимыми, поэтому строка “хаха” (с маленькой буквы) уже не будет соответствовать выражению выше. \n",
        "\n",
        "Подобно строкам в языке Python, регулярные выражения имеют спецсимволы .^$*+?{}[]\\|(), которые в регулярках являются управляющими конструкциями. \n",
        "Для написания их просто как символов требуется их экранировать, для чего нужно поставить перед ними знак \\. Так же, как и в питоне, в регулярных выражениях выражение \\n соответствует концу строки, а \\t — табуляции. "
      ]
    },
    {
      "cell_type": "markdown",
      "metadata": {
        "id": "Ew_Zp6TWCSM6",
        "colab_type": "text"
      },
      "source": [
        "<table>\n",
        "<tbody>\n",
        "<tr>\n",
        "<td width=\"10%\"><b>Символ</b></td>\n",
        "<td width=\"50%\"><b>Пояснение</b></td>\n",
        "<td width=\"20%\"><b>Пример выражения</b></td>\n",
        "<td width=\"20%\"><b>Пример строки</b></td>\n",
        "</tr>\n",
        "<tr>\n",
        "<td>.</td>\n",
        "<td>Любой символ</td>\n",
        "<td>...</td>\n",
        "<td>A!#</td>\n",
        "</tr>\n",
        "<tr>\n",
        "<td>*</td>\n",
        "<td>Ноль и более&nbsp;совпадений с выражением, заданным в качестве образца&nbsp;</td>\n",
        "<td>123*</td>\n",
        "<td>123123123</td>\n",
        "</tr>\n",
        "<tr>\n",
        "<td>+</td>\n",
        "<td>Одно и более&nbsp;совпадений с выражением, заданным в качестве образца&nbsp;</td>\n",
        "<td>Ура!+</td>\n",
        "<td>Ура!Ура!</td>\n",
        "</tr>\n",
        "<tr>\n",
        "<td>?</td>\n",
        "<td>Ноль или одно&nbsp;совпадение с выражением, заданным в качестве образца&nbsp;</td>\n",
        "<td>один?</td>\n",
        "<td>один</td>\n",
        "</tr>\n",
        "<tr>\n",
        "<td>[ ]</td>\n",
        "<td>Совпадение с любым из символов, заключённым в скобки</td>\n",
        "<td>[a-z]</td>\n",
        "<td>b</td>\n",
        "</tr>\n",
        "<tr>\n",
        "<td>[^ ]</td>\n",
        "<td>Совпадение с любым из символов, отсутствующим в скобках</td>\n",
        "<td>[^a-z]</td>\n",
        "<td>5</td>\n",
        "</tr>\n",
        "<tr>\n",
        "<td>\\</td>\n",
        "<td>Обозначает начало специальной последовательности (см. далее) или экранирует специальные символы (т.е. позволяет использовать символы типа '.', '*', '?' в роли обычных элементов строки)</td>\n",
        "<td>\\*</td>\n",
        "<td>*</td>\n",
        "</tr>\n",
        "</tbody>\n",
        "</table>"
      ]
    },
    {
      "cell_type": "markdown",
      "metadata": {
        "id": "EgjB2RVcCSM7",
        "colab_type": "text"
      },
      "source": [
        "Одна из любопытных особенностей регулярных выражений в их универсальности, стоит вам выучить синтаксис, и вы сможете применять их в любом (почти) языке программирования (JavaScript, Java, VB, C #, C / C++, Python, Perl, Ruby, Delphi, R, Tcl, и многих других). Небольшие отличия касаются только наиболее продвинутых функций и версий синтаксиса, поддерживаемых движком."
      ]
    },
    {
      "cell_type": "markdown",
      "metadata": {
        "id": "nOgNEUT_CSM7",
        "colab_type": "text"
      },
      "source": [
        "<table>\n",
        "<tbody>\n",
        "<tr>\n",
        "<td width=\"20%\"><b>Последовательность</b></td>\n",
        "<td width=\"60%\"><b>Описание</b></td>\n",
        "<td width=\"20%\"><b>Аналог с []</b></td>\n",
        "</tr>\n",
        "<tr>\n",
        "<td>\\d</td>\n",
        "<td>Любая цифра</td>\n",
        "<td>[0-9]</td>\n",
        "</tr>\n",
        "<tr>\n",
        "<td>\\D</td>\n",
        "<td>Всё что угодно, кроме цифры</td>\n",
        "<td>[^0-9]</td>\n",
        "</tr>\n",
        "<tr>\n",
        "<td>\\s</td>\n",
        "<td>Любой пробельный символ</td>\n",
        "<td>[ \\t\\n\\r\\f\\v]</td>\n",
        "</tr>\n",
        "<tr>\n",
        "<td>\\S</td>\n",
        "<td>Любой непробельный символ</td>\n",
        "<td>[^ \\t\\n\\r\\f\\v]</td>\n",
        "</tr>\n",
        "<tr>\n",
        "<td>\\w</td>\n",
        "<td>Любая буква, цифра, знак подчёркивания</td>\n",
        "<td>[a-zA-Z0-9_]</td>\n",
        "</tr>\n",
        "<tr>\n",
        "<td>\\W</td>\n",
        "<td>Всё что угодно, кроме букв, цифр и знака подчёркивания</td>\n",
        "<td>[^a-zA-Z0-9_]</td>\n",
        "</tr>\n",
        "</tbody>\n",
        "</table>"
      ]
    },
    {
      "cell_type": "markdown",
      "metadata": {
        "id": "XjinpgL9CSM7",
        "colab_type": "text"
      },
      "source": [
        "https://regex101.com/r/cO8lqs/2"
      ]
    },
    {
      "cell_type": "markdown",
      "metadata": {
        "id": "FNuhzpM4CSM9",
        "colab_type": "text"
      },
      "source": [
        "### Якоря — ^ и $"
      ]
    },
    {
      "cell_type": "markdown",
      "metadata": {
        "id": "qaVSr8hoCSM9",
        "colab_type": "text"
      },
      "source": [
        "**^Привет**        соответствует строке, начинающейся с **Привет**\n",
        "\n",
        "**пока$**          соответствует строке, заканчивающейся на **пока**"
      ]
    },
    {
      "cell_type": "markdown",
      "metadata": {
        "id": "ovVptECtCSM-",
        "colab_type": "text"
      },
      "source": [
        "### Квантификаторы \n",
        "    * + ? и {}"
      ]
    },
    {
      "cell_type": "markdown",
      "metadata": {
        "id": "vOP2oT1oCSM-",
        "colab_type": "text"
      },
      "source": [
        "abc*       соответствует строке, в которой после ab следует 0 или более символов c\n",
        "\n",
        "abc+       соответствует строке, в которой после ab следует один или более символов c\n",
        "\n",
        "abc?       соответствует строке, в которой после ab следует 0 или один символ c\n",
        "\n",
        "abc{2}     соответствует строке, в которой после ab следует 2 символа c\n",
        "\n",
        "abc{2,}    соответствует строке, в которой после ab следует 2 или более символов c\n",
        "\n",
        "abc{2,5}   соответствует строке, в которой после ab следует от 2 до 5 символов c\n",
        "\n",
        "a(bc)*     соответствует строке, в которой после ab следует 0 или более последовательностей символов bc\n",
        "\n",
        "a(bc){2,5} соответствует строке, в которой после ab следует от 2 до 5 последовательностей символов bc"
      ]
    },
    {
      "cell_type": "markdown",
      "metadata": {
        "id": "t-66RlzrCSM_",
        "colab_type": "text"
      },
      "source": [
        "### Оператор ИЛИ — | или []\n",
        "\n",
        "a(b|c) соответствует строке, в которой после a следует b или c \n",
        "\n",
        "a[bc]  как и в предыдущем примере"
      ]
    },
    {
      "cell_type": "markdown",
      "metadata": {
        "id": "tqzjIa6fCSNA",
        "colab_type": "text"
      },
      "source": [
        "## Квантификация\n",
        "    Квантификатор после символа или группы определяет, сколько раз предшествующее выражение может встречаться.\n",
        "\n",
        "    {n,m}        общее выражение, повторений может быть от n до m включительно.\n",
        "    {n,}        общее выражение, n и более повторений.\n",
        "    {,m}        общее выражение, не более m повторений.\n",
        "    {n}        общее выражение, ровно n повторений\n",
        "     ?        Знак вопроса означает 0 или 1 раз, то же самое, что и {0,1}. Например, «colou?r» соответствует и color, и colour.\n",
        "    *        Звёздочка означает 0, 1 или любое число раз ({0,}). Например, «go*gle» соответствует gogle, google, gooogle, ggle, и др.\n",
        "    +        Плюс означает хотя бы 1 раз ({1,}). Например, «go+gle» соответствует gogle, google и т. д. (но не ggle)."
      ]
    },
    {
      "cell_type": "markdown",
      "metadata": {
        "id": "47QRfwH9CSNB",
        "colab_type": "text"
      },
      "source": [
        "Экранирование строк в python"
      ]
    },
    {
      "cell_type": "code",
      "metadata": {
        "id": "1czwhNF4CSNB",
        "colab_type": "code",
        "colab": {},
        "outputId": "4506cd71-e701-4355-8601-22fe78c8d3d1"
      },
      "source": [
        "s = 'C:\\newt.txt'\n",
        "print(s)\n",
        "S = r'C:\\newt.txt'\n",
        "print(S)"
      ],
      "execution_count": null,
      "outputs": [
        {
          "output_type": "stream",
          "text": [
            "C:\n",
            "ewt.txt\n",
            "C:\\newt.txt\n"
          ],
          "name": "stdout"
        }
      ]
    },
    {
      "cell_type": "code",
      "metadata": {
        "scrolled": false,
        "id": "ittUoK98CSNH",
        "colab_type": "code",
        "colab": {},
        "outputId": "078cbd41-b388-410b-d254-0886e15a9b4c"
      },
      "source": [
        "russian_num = re.compile(r'\\(\\d{3}\\)\\s?\\d{3}-\\d{2}-\\d{2}')\n",
        "mo = russian_num.search('(812) 321-66-13 is a phone number:')\n",
        "xo = russian_num.search('Moshi moshi is a phone number:')\n",
        "print(mo.group())"
      ],
      "execution_count": null,
      "outputs": [
        {
          "output_type": "stream",
          "text": [
            "(812) 321-66-13\n"
          ],
          "name": "stdout"
        }
      ]
    },
    {
      "cell_type": "markdown",
      "metadata": {
        "id": "tug0LfPkCSNM",
        "colab_type": "text"
      },
      "source": [
        "### Наборы в регулярных выражениях\n",
        "набор задается внутри квадратных скобок"
      ]
    },
    {
      "cell_type": "code",
      "metadata": {
        "id": "1vLZQezPCSNN",
        "colab_type": "code",
        "colab": {},
        "outputId": "2d7dd677-4f44-43ff-ff13-af6d24472573"
      },
      "source": [
        "import re\n",
        "pattern = r'^а' # запись означает, что вторым символов может быть a b c \n",
        "string = 'арбитраж'\n",
        "match_obj = re.search(pattern, string)\n",
        "print(match_obj.group())\n",
        "\n"
      ],
      "execution_count": null,
      "outputs": [
        {
          "output_type": "stream",
          "text": [
            "а\n"
          ],
          "name": "stdout"
        }
      ]
    },
    {
      "cell_type": "code",
      "metadata": {
        "id": "ZVcO9VIJCSNS",
        "colab_type": "code",
        "colab": {},
        "outputId": "b051cde9-2c8d-4450-aefd-583d17eed270"
      },
      "source": [
        "string = 'abracadabra'\n",
        "string.endswith('ok')\n"
      ],
      "execution_count": null,
      "outputs": [
        {
          "output_type": "execute_result",
          "data": {
            "text/plain": [
              "False"
            ]
          },
          "metadata": {
            "tags": []
          },
          "execution_count": 10
        }
      ]
    },
    {
      "cell_type": "code",
      "metadata": {
        "id": "NJ4kdJO3CSNj",
        "colab_type": "code",
        "colab": {},
        "outputId": "4c8a24d2-6794-4765-93e6-53a85f3b163a"
      },
      "source": [
        "#ignorecase - и регистр нас уже не волнует\n",
        "pattern = r'р[еу]ка' # запись означает, что вторым символов может быть е у \n",
        "string = 'Рука'\n",
        "match_obj = re.search(pattern, string, re.IGNORECASE)\n",
        "print(match_obj.group())\n"
      ],
      "execution_count": null,
      "outputs": [
        {
          "output_type": "stream",
          "text": [
            "Рука\n"
          ],
          "name": "stdout"
        }
      ]
    },
    {
      "cell_type": "markdown",
      "metadata": {
        "id": "swRca-nZCSNp",
        "colab_type": "text"
      },
      "source": [
        "### Условия в регулярных выражениях \n",
        "\n",
        "оператор | (канал) позволяет создавать условные конструкции в регулярных выражениях"
      ]
    },
    {
      "cell_type": "code",
      "metadata": {
        "scrolled": true,
        "id": "mk1r8bY2CSNp",
        "colab_type": "code",
        "colab": {},
        "outputId": "763838dd-0107-4219-b801-6828a732e172"
      },
      "source": [
        "phrase = 'Миша кинул Мише мяч, Миша его отбил'\n",
        "reg = re.compile(r'Володя|Миша')\n",
        "mo = reg.search(phrase)\n",
        "mo.group()"
      ],
      "execution_count": null,
      "outputs": [
        {
          "output_type": "execute_result",
          "data": {
            "text/plain": [
              "'Миша'"
            ]
          },
          "metadata": {
            "tags": []
          },
          "execution_count": 13
        }
      ]
    },
    {
      "cell_type": "markdown",
      "metadata": {
        "id": "1p-cGtdvCSNt",
        "colab_type": "text"
      },
      "source": [
        "### Нахождение всех совпадений"
      ]
    },
    {
      "cell_type": "code",
      "metadata": {
        "id": "SudfPJU8CSNu",
        "colab_type": "code",
        "colab": {},
        "outputId": "583b67bf-17b5-4d87-cbdc-9f55d557e701"
      },
      "source": [
        "import re\n",
        "fa = reg.findall(phrase)\n",
        "fa"
      ],
      "execution_count": null,
      "outputs": [
        {
          "output_type": "execute_result",
          "data": {
            "text/plain": [
              "['Миша', 'Миша']"
            ]
          },
          "metadata": {
            "tags": []
          },
          "execution_count": 14
        }
      ]
    },
    {
      "cell_type": "markdown",
      "metadata": {
        "id": "dPLKljSSCSNz",
        "colab_type": "text"
      },
      "source": [
        "### Указание необязательной группы символов с помощью вопросительного знака"
      ]
    },
    {
      "cell_type": "code",
      "metadata": {
        "id": "rFS5otgQCSNz",
        "colab_type": "code",
        "colab": {},
        "outputId": "fd0eef4b-936d-4023-bb0b-f6c079696364"
      },
      "source": [
        "russian_num = re.compile(r'(\\(\\d{3}\\))?(\\d{3}-\\d{2}-\\d{2})')\n",
        "mo = russian_num.search('(812)321-66-13 is a phone number:')\n",
        "xo = russian_num.search('321-66-13 is a phone number:')\n",
        "print(mo)"
      ],
      "execution_count": null,
      "outputs": [
        {
          "output_type": "stream",
          "text": [
            "<re.Match object; span=(0, 14), match='(812)321-66-13'>\n"
          ],
          "name": "stdout"
        }
      ]
    },
    {
      "cell_type": "markdown",
      "metadata": {
        "id": "_3LLBLfuCSN3",
        "colab_type": "text"
      },
      "source": [
        "### Разделение по паттерну"
      ]
    },
    {
      "cell_type": "code",
      "metadata": {
        "id": "zatwRka2CSN4",
        "colab_type": "code",
        "colab": {},
        "outputId": "6aef0dcb-917c-4ac5-a360-c54a873cab1f"
      },
      "source": [
        "result = re.split(r'\\d+', 'Analytics 222 Vidhya')\n",
        "result"
      ],
      "execution_count": null,
      "outputs": [
        {
          "output_type": "execute_result",
          "data": {
            "text/plain": [
              "['Analytics ', ' Vidhya']"
            ]
          },
          "metadata": {
            "tags": []
          },
          "execution_count": 17
        }
      ]
    },
    {
      "cell_type": "markdown",
      "metadata": {
        "id": "IIeVNdI6CSN7",
        "colab_type": "text"
      },
      "source": [
        "Подробнее о регулярных выажениях\n",
        "https://habr.com/ru/post/349860/"
      ]
    },
    {
      "cell_type": "markdown",
      "metadata": {
        "id": "dN7wCf6UCSN8",
        "colab_type": "text"
      },
      "source": [
        "Подробнее о регулярных выражениях https://ru.wikibooks.org/wiki/%D0%A0%D0%B5%D0%B3%D1%83%D0%BB%D1%8F%D1%80%D0%BD%D1%8B%D0%B5_%D0%B2%D1%8B%D1%80%D0%B0%D0%B6%D0%B5%D0%BD%D0%B8%D1%8F"
      ]
    },
    {
      "cell_type": "markdown",
      "metadata": {
        "id": "4uG3anobCSN8",
        "colab_type": "text"
      },
      "source": [
        "*Некоторые люди, когда сталкиваются с проблемой, думают «Я знаю, я решу её с помощью регулярных выражений.» Теперь у них две проблемы.*"
      ]
    },
    {
      "cell_type": "code",
      "metadata": {
        "scrolled": true,
        "id": "YBm31-g7CSN8",
        "colab_type": "code",
        "colab": {},
        "outputId": "b86908ce-896a-48ef-9ed3-cf1603ff3459"
      },
      "source": [
        "text = 'Разработка языка Python была начата в конце 1980-х годов сотрудником голландского института CWI Гвидо ван Россумом. Для распределённой ОС Amoeba требовался расширяемый скриптовый язык, и Гвидо начал писать Python на досуге, позаимствовав некоторые наработки для языка ABC (Гвидо участвовал в разработке этого языка, ориентированного на обучение программированию). В феврале 1991 года Гвидо опубликовал исходный текст в группе новостей alt.sources. Название языка произошло вовсе не от вида пресмыкающихся. Автор назвал язык в честь популярного британского комедийного телешоу 1970-х \"Летающий цирк Монти Пайтона\".'\n",
        "text"
      ],
      "execution_count": null,
      "outputs": [
        {
          "output_type": "execute_result",
          "data": {
            "text/plain": [
              "'Разработка языка Python была начата в конце 1980-х годов сотрудником голландского института CWI Гвидо ван Россумом. Для распределённой ОС Amoeba требовался расширяемый скриптовый язык, и Гвидо начал писать Python на досуге, позаимствовав некоторые наработки для языка ABC (Гвидо участвовал в разработке этого языка, ориентированного на обучение программированию). В феврале 1991 года Гвидо опубликовал исходный текст в группе новостей alt.sources. Название языка произошло вовсе не от вида пресмыкающихся. Автор назвал язык в честь популярного британского комедийного телешоу 1970-х \"Летающий цирк Монти Пайтона\".'"
            ]
          },
          "metadata": {
            "tags": []
          },
          "execution_count": 19
        }
      ]
    },
    {
      "cell_type": "markdown",
      "metadata": {
        "id": "aTMRBj3HCSOA",
        "colab_type": "text"
      },
      "source": [
        "Используя возможности модуля re, определите количество пар слов, в которых первое слово заканчивается на гласную русскую букву, второе — начинается на согласную (также русскую). Введите количество найденных пар слов в поле для ответа.\n",
        "\n",
        "Во время подсчёта не учитывайте регистр букв (т.е. при подсчёте должны учитываться как вариант: \"...а П...\" , так и вариант: \"...а п...\" ). Предлоги и союзы считайте полноправными словами, даже если они состоят из одной буквы.\n",
        "\n",
        "Если между словами имеется знак препинания, считайте, что эти два слова НЕ удовлетворяют критерию поиска (т.е. вариант: \"...а, П...\" НЕ должен учитываться при подсчёте)."
      ]
    },
    {
      "cell_type": "code",
      "metadata": {
        "id": "hRNokfjwCSOB",
        "colab_type": "code",
        "colab": {},
        "outputId": "73703126-d7eb-496f-e4c7-89c3d8ea13d1"
      },
      "source": [
        "import re\n",
        "pattern = re.compile(r'[аеёиоуыэюя]\\s[бвгджзйклмнпрстфхцчшщ]', re.IGNORECASE)\n",
        "pattern.findall(text)"
      ],
      "execution_count": null,
      "outputs": [
        {
          "output_type": "execute_result",
          "data": {
            "text/plain": [
              "['а н',\n",
              " 'а в',\n",
              " 'о в',\n",
              " 'я р',\n",
              " 'я р',\n",
              " 'и Г',\n",
              " 'о н',\n",
              " 'а д',\n",
              " 'е н',\n",
              " 'и д',\n",
              " 'о н',\n",
              " 'е п',\n",
              " 'а Г',\n",
              " 'е н',\n",
              " 'а п',\n",
              " 'о в',\n",
              " 'е н',\n",
              " 'а п',\n",
              " 'о б',\n",
              " 'о к',\n",
              " 'о т',\n",
              " 'и П']"
            ]
          },
          "metadata": {
            "tags": []
          },
          "execution_count": 20
        }
      ]
    },
    {
      "cell_type": "markdown",
      "metadata": {
        "id": "32rCaRGgCSOF",
        "colab_type": "text"
      },
      "source": [
        "### Файлы "
      ]
    },
    {
      "cell_type": "markdown",
      "metadata": {
        "id": "jlt9wKfMCSOG",
        "colab_type": "text"
      },
      "source": [
        "Файл — именованная область данных на носителе информации.\n"
      ]
    },
    {
      "cell_type": "markdown",
      "metadata": {
        "id": "5fs_Af4qCSOG",
        "colab_type": "text"
      },
      "source": [
        "Python поддерживает множество различных типов файлов, но условно их можно разделить на два виде: текстовые и бинарные.\n",
        "\n",
        "Текстовые файлы - это к примеру файлы с расширением csv, txt, html, в общем любые файлы, которые сохраняют информацию в текстовом виде.\n",
        "\n",
        "Бинарные файлы - это изображения, аудио и видеофайлы и т.д. В зависимости от типа файла работа с ним может немного отличаться."
      ]
    },
    {
      "cell_type": "markdown",
      "metadata": {
        "id": "O3JH68fcCSOI",
        "colab_type": "text"
      },
      "source": [
        "<code> with open(file, mode) as file_obj:\n",
        "    инструкции </code>\n",
        "    \n",
        "Эта конструкция определяет для открытого файла переменную file_obj и выполняет набор инструкций. После их выполнения файл автоматически закрывается. Даже если при выполнении инструкций в блоке with возникнут какие-либо исключения, то файл все равно закрывается."
      ]
    },
    {
      "cell_type": "code",
      "metadata": {
        "id": "WJLS0v4SCSOJ",
        "colab_type": "code",
        "colab": {}
      },
      "source": [
        "#Запись в файл\n",
        "with open(\"hello.txt\", \"w\") as f:\n",
        "    f.write(\"hello world\")"
      ],
      "execution_count": null,
      "outputs": []
    },
    {
      "cell_type": "code",
      "metadata": {
        "id": "bXKvYH-jCSOL",
        "colab_type": "code",
        "colab": {}
      },
      "source": [
        "#добавим ещё одну строку\n",
        "with open(\"hello.txt\", \"a\") as file:\n",
        "    file.write(\"\\ngood bye, world\")"
      ],
      "execution_count": null,
      "outputs": []
    },
    {
      "cell_type": "code",
      "metadata": {
        "scrolled": true,
        "id": "qgFYXx-lCSOO",
        "colab_type": "code",
        "colab": {},
        "outputId": "a69a04ab-4dae-4f4b-cec4-1111d1e859b1"
      },
      "source": [
        "#читаем файл построчно\n",
        "with open(\"hello.txt\", \"r\") as file:\n",
        "    for line in file:\n",
        "        print(line, end=\"\")"
      ],
      "execution_count": null,
      "outputs": [
        {
          "output_type": "stream",
          "text": [
            "hello world\n",
            "good bye, world"
          ],
          "name": "stdout"
        }
      ]
    },
    {
      "cell_type": "code",
      "metadata": {
        "id": "1nUh0yH6CSOR",
        "colab_type": "code",
        "colab": {},
        "outputId": "6cb9a188-dc73-477d-b483-cfa5563b7009"
      },
      "source": [
        "#читаем файл целиком\n",
        "with open(\"hello.txt\", \"r\") as file:\n",
        "    content = file.read()\n",
        "    print(content)"
      ],
      "execution_count": null,
      "outputs": [
        {
          "output_type": "stream",
          "text": [
            "hello world\n",
            "good bye, world\n"
          ],
          "name": "stdout"
        }
      ]
    },
    {
      "cell_type": "code",
      "metadata": {
        "scrolled": true,
        "id": "avMwdqS_CSOT",
        "colab_type": "code",
        "colab": {},
        "outputId": "b7b0db38-f31b-4c1b-bf4a-81971b5e2f49"
      },
      "source": [
        "# имя файла\n",
        "FILENAME = \"messages.txt\"\n",
        "# определяем пустой список\n",
        "messages = list()\n",
        " \n",
        "for i in range(4):\n",
        "    message = input(\"Введите строку \" + str(i+1) + \": \") # заменить на format или на f'string\n",
        "    messages.append(message + \"\\n\")\n",
        " \n",
        "# запись списка в файл\n",
        "with open(FILENAME, \"a\") as file:\n",
        "    for message in messages:\n",
        "        file.write(message)\n",
        "        \n",
        " \n",
        "# считываем сообщения из файла\n",
        "print(\"Считанные сообщения\")\n",
        "with open(FILENAME, \"r\") as file:\n",
        "    for message in file:\n",
        "        print(message, end=\"\")"
      ],
      "execution_count": null,
      "outputs": [
        {
          "output_type": "stream",
          "text": [
            "Введите строку 1: 123123\n",
            "Введите строку 2: 123123213\n",
            "Введите строку 3: цуцу\n",
            "Введите строку 4: вв\n",
            "Считанные сообщения\n",
            "ываываы\n",
            "ываываыва\n",
            "ваываыва\n",
            "уукук\n",
            "dsfsdfsdf\n",
            "sdfsdfsdf\n",
            "eferer\n",
            "ffff\n",
            "123123\n",
            "123123213\n",
            "цуцу\n",
            "вв\n"
          ],
          "name": "stdout"
        }
      ]
    },
    {
      "cell_type": "markdown",
      "metadata": {
        "id": "cZTivpNeCSOY",
        "colab_type": "text"
      },
      "source": [
        "Для того чтобы работать с файлами в Питоне следует также понимать принципы работы path\n",
        "Рабочая библиотека **os**"
      ]
    },
    {
      "cell_type": "code",
      "metadata": {
        "id": "9m-z25K0CSOZ",
        "colab_type": "code",
        "colab": {},
        "outputId": "96158b72-7012-47be-c4cd-5ec7f32141f5"
      },
      "source": [
        "import os\n",
        "os.getcwd()"
      ],
      "execution_count": null,
      "outputs": [
        {
          "output_type": "execute_result",
          "data": {
            "text/plain": [
              "'/home/politlen/Documents'"
            ]
          },
          "metadata": {
            "tags": []
          },
          "execution_count": 26
        }
      ]
    },
    {
      "cell_type": "code",
      "metadata": {
        "scrolled": false,
        "id": "PrSInl78CSOc",
        "colab_type": "code",
        "colab": {}
      },
      "source": [
        "os.listdir()"
      ],
      "execution_count": null,
      "outputs": []
    },
    {
      "cell_type": "code",
      "metadata": {
        "scrolled": true,
        "id": "zGLiW-0JCSOf",
        "colab_type": "code",
        "colab": {},
        "outputId": "07748c1c-2609-42f7-9c1b-88d2b3f785a7"
      },
      "source": [
        "[i for i in os.listdir() if i.endswith('txt')]"
      ],
      "execution_count": null,
      "outputs": [
        {
          "output_type": "execute_result",
          "data": {
            "text/plain": [
              "['3три.txt',\n",
              " 'keys.txt',\n",
              " 'result.txt',\n",
              " '1раз.txt',\n",
              " 'hello.txt',\n",
              " '2два.txt',\n",
              " 'messages.txt',\n",
              " 'token.txt']"
            ]
          },
          "metadata": {
            "tags": []
          },
          "execution_count": 91
        }
      ]
    },
    {
      "cell_type": "code",
      "metadata": {
        "id": "UTTN8PkkCSOo",
        "colab_type": "code",
        "colab": {},
        "outputId": "48ac9e5d-a0c6-4cf2-dbb7-c082a165d27d"
      },
      "source": [
        "os.chdir('../')\n",
        "os.getcwd()"
      ],
      "execution_count": null,
      "outputs": [
        {
          "output_type": "execute_result",
          "data": {
            "text/plain": [
              "'/home/politlen'"
            ]
          },
          "metadata": {
            "tags": []
          },
          "execution_count": 100
        }
      ]
    },
    {
      "cell_type": "markdown",
      "metadata": {
        "id": "WxQ27oFiCSOr",
        "colab_type": "text"
      },
      "source": [
        "Подробнее про модуль os https://python-scripts.com/import-os-example"
      ]
    },
    {
      "cell_type": "code",
      "metadata": {
        "id": "5q3qvpILCSOr",
        "colab_type": "code",
        "colab": {}
      },
      "source": [
        "#Задача на файлы и строки\n",
        "var = \"\"\"ЭтОТ текст ИМЕЕЕТ явнЫе проБЛЕМы с РЕГИСТРОМ. ЕГО писал нездоровый коллега, \n",
        "КОТОРЫЙ то ли УШЕЛ в отпуск то ли на больничный, и теперь он недоступен.Однако в этом тексте содержится ключевая информация по поставкам, \n",
        "которая срочно должна оказаться на столе у начальника. \n",
        "Дальше идет долгое и подробное описание деталей поставок, характеристик товаров и прочее прочее. Страниц на 100\n",
        "Нам нужно вычленить оТсюда ключевую информацию  записать её в файл:\n",
        "Ford Focus, colour: grey, transmission: automate, price: 1,1 kk rub,  tel: 8(880)456-65-78\n",
        "Ford Mondeo, colour: blue; transmission: automate, price: 1,6 kk rub, tel: 8(880)546-55-79\n",
        "\"\"\"\n",
        "\n",
        "#Хотим чтобы каждое предложение начиналось  с большой буквы, а остальные были с маленькой\n"
      ],
      "execution_count": null,
      "outputs": []
    },
    {
      "cell_type": "code",
      "metadata": {
        "id": "7X6mL1ghCSOu",
        "colab_type": "code",
        "colab": {},
        "outputId": "575466aa-6ed8-4780-8ccb-d3f5179aa6df"
      },
      "source": [
        "#Запись в файл. В жизни этот этап был бы пропущен\n",
        "with open(\"hello.txt\", \"w\") as file:\n",
        "    file.write(var)\n",
        "    \n",
        "with open(\"hello.txt\", \"r\") as file:\n",
        "    data = file.read()\n",
        "    \n",
        "\n",
        "text, info = data.split('файл:')\n",
        "textLower = text.lower() + 'файл: '\n",
        "textUpdated =  print(\". \".join(i.capitalize() for i in  re.split(r'\\.\\s+', textLower)))\n",
        "textUpdated"
      ],
      "execution_count": null,
      "outputs": [
        {
          "output_type": "stream",
          "text": [
            "Этот текст имееет явные проблемы с регистром. Его писал нездоровый коллега, \n",
            "который то ли ушел в отпуск то ли на больничный, и теперь он недоступен.однако в этом тексте содержится ключевая информация по поставкам, \n",
            "которая срочно должна оказаться на столе у начальника. Дальше идет долгое и подробное описание деталей поставок, характеристик товаров и прочее прочее. Страниц на 100\n",
            "нам нужно вычленить отсюда ключевую информацию  записать её в файл: \n"
          ],
          "name": "stdout"
        }
      ]
    },
    {
      "cell_type": "markdown",
      "metadata": {
        "id": "w1MhZRmGCSOy",
        "colab_type": "text"
      },
      "source": [
        "Как видите, \"нам\" не вернулось обратно в исходную форму, потому что не подходит по паттерну. \n",
        "\n",
        "Мы можем изменить наше регулярное выражение, но все человеческие ошибки предугатать невозможно."
      ]
    }
  ]
}